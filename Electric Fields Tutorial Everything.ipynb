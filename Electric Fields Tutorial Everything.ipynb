{
 "cells": [
  {
   "cell_type": "markdown",
   "metadata": {},
   "source": [
    "# Electric Field Tutorial"
   ]
  },
  {
   "cell_type": "markdown",
   "metadata": {},
   "source": [
    "## Introduction"
   ]
  },
  {
   "cell_type": "markdown",
   "metadata": {},
   "source": [
    "This first cell contains the imports for the python libraries we will be using. The first one is what gives us access to all the 3D objects and animation features. The second is a class which I have developed myself. The third is a 3rd party package that gives us some special data types and allows us to do vector calculations. Below is a brief crash course on object-oriented programming:\n",
    "\n",
    "By writing `from Charge import Charge` below, python finds the package file named Charge and imports the class within that file named `Charge`. A class is a definition of an object. Objects are code devices which can be assigned names, attributes, and can have things (methods/functions) done to them. For example, you could write a class called `Sandwich` and it might have some attributes like `Sandwich.meat`, `Sandwich.cheese`,`Sandwich.slices_of_cheese`, and `Sandwich.bread`  which you assign the type of meat, cheese type and quantity, and type of bread to. With this idea in mind, creating a sandwich object would look like this:\n",
    "```\n",
    "ham_and_cheese_sandwich = Sandwich(meat='ham', cheese='American', slices_of_cheese = 2, bread='Rye')\n",
    "```\n",
    "Note how the words which we assign to attributes are in quotes, typed words like this are strings and must be contained in quotes. Our sandwich object we just created can easily be updated. So say we change our mind and want wheat bread and one slice of cheese, that looks like this:\n",
    "```\n",
    "ham_and_cheese_sandwich.bread = 'Wheat'\n",
    "ham_and_cheese_sandwich.slices_of_cheese = 1\n",
    "```\n",
    "Now, some things you might do with a sandwich would be defined as functions or methods in the class. We may have `take_bite()`, or `cut()`. Each of those methods may have certain arguments which you supply when running it, for example the cut method would have an argument for how many cuts to make and what shape to make them in. Methods can be called like so:\n",
    "```\n",
    "half1, half2 = ham_and_cheese_sandwich.cut(n=1, shape='triangle')\n",
    "half1.take_bite()\n",
    "half2.take_bite()\n",
    "```\n",
    "So we cut our sandwich into two triangles. The cut method has a return that gives us back new objects which correspond to the new cut pieces of our original sandwich. Then we take bites of each of the new pieces, and this doesn't require an equal sign because the method doesn't return anything, it just updates the object itself.\n",
    "\n",
    "With all of this we can discuss the `Charge` class. The Charge class has two attributes: `Charge.charge` and `Charge.position`. The `charge` attribute is a positive or negative number representing the charge of the new point charge being created. This number is a float so it can have decimals. The `position` attribute is a VPython vector object which is written as `vector(x,y,z)` where x,y,z are the coordinates of the location. The Charge class has the `efield()` method which calculates the vectorized electric field due to `Charge` at point `r` passed to the method. Some examples of initializing charge objects and what you can do with them are below."
   ]
  },
  {
   "cell_type": "markdown",
   "metadata": {},
   "source": [
    "These first two blocks are Markdown boxes and when executed using shift+enter or ctrl+enter, they are treated as just normal text. These cells do have special formatting capabilities which allow you to typeset code like above or math like below. \n",
    "\n",
    "For our purposes, you won't be editing these Markdown cells. You can navigate through the Jupyter notebook by scrolling like normal, but I advise starting in the first cell and just executing each cell with shift+enter which will run the cell and move to the next one. You can select a cell by clicking in the margin to the left of it.\n",
    "\n",
    "This will make sure you are always keeping up with the markdown so when you get to a point where it refernces code below, you are right there to run it. The cell below is crucial for everything else in the notebook to work as the imports are necessary for the functionality of the visualizations and the Charge class."
   ]
  },
  {
   "cell_type": "code",
   "execution_count": 2,
   "metadata": {},
   "outputs": [
    {
     "data": {
      "text/html": [
       "<div id=\"glowscript\" class=\"glowscript\"></div>"
      ],
      "text/plain": [
       "<IPython.core.display.HTML object>"
      ]
     },
     "metadata": {},
     "output_type": "display_data"
    },
    {
     "data": {
      "application/javascript": [
       "if (typeof Jupyter !== \"undefined\") { window.__context = { glowscript_container: $(\"#glowscript\").removeAttr(\"id\")};}else{ element.textContent = ' ';}"
      ],
      "text/plain": [
       "<IPython.core.display.Javascript object>"
      ]
     },
     "metadata": {},
     "output_type": "display_data"
    }
   ],
   "source": [
    "from vpython import *\n",
    "from Charge import Charge\n",
    "from Charge import runge_kutta_2 as rk2\n",
    "import numpy as np"
   ]
  },
  {
   "cell_type": "markdown",
   "metadata": {},
   "source": [
    "The following previews what you will be able to create with this tool."
   ]
  },
  {
   "cell_type": "markdown",
   "metadata": {},
   "source": [
    "## Example 1"
   ]
  },
  {
   "cell_type": "code",
   "execution_count": 3,
   "metadata": {},
   "outputs": [],
   "source": [
    "q1 = Charge(charge=.8, position = vector(0,25,0))\n",
    "q2 = Charge(charge=-.8, position = vector(0,-25,0))\n",
    "q3 = Charge(charge=2, position = vector(0,0,0))\n",
    "q4 = Charge(charge=-4, position=vector(10,35,0))\n",
    "charges = np.array([q1,q2, q3, q4])\n",
    "r_0s = list()"
   ]
  },
  {
   "cell_type": "code",
   "execution_count": 4,
   "metadata": {},
   "outputs": [],
   "source": [
    "for i in range(0,5):\n",
    "    r_yz1 = q1.position + rotate(vector(0,-0.2,0), angle=i * (np.pi/2), axis=vector(1,0,0))\n",
    "    r_xy1 = q1.position + rotate(vector(0,-0.2,0), angle = i * (np.pi/2), axis=vector(0,0,1))\n",
    "    r_yz2 = q3.position + rotate(vector(0,-2,0), angle=i * (np.pi/2), axis=vector(1,0,0))\n",
    "    r_xy2 = q3.position + rotate(vector(0,-2,0), angle = i * (np.pi/2), axis=vector(0,0,1))\n",
    "    r_0s.append(r_yz1)\n",
    "    r_0s.append(r_xy1)\n",
    "    r_0s.append(r_yz2)\n",
    "    r_0s.append(r_xy2)"
   ]
  },
  {
   "cell_type": "code",
   "execution_count": 5,
   "metadata": {},
   "outputs": [
    {
     "data": {
      "text/html": [
       "<div id=\"glowscript\" class=\"glowscript\"></div>"
      ],
      "text/plain": [
       "<IPython.core.display.HTML object>"
      ]
     },
     "metadata": {},
     "output_type": "display_data"
    },
    {
     "data": {
      "application/javascript": [
       "if (typeof Jupyter !== \"undefined\") { window.__context = { glowscript_container: $(\"#glowscript\").removeAttr(\"id\")};}else{ element.textContent = ' ';}"
      ],
      "text/plain": [
       "<IPython.core.display.Javascript object>"
      ]
     },
     "metadata": {},
     "output_type": "display_data"
    }
   ],
   "source": [
    "canvas()"
   ]
  },
  {
   "cell_type": "code",
   "execution_count": 6,
   "metadata": {},
   "outputs": [
    {
     "data": {
      "application/javascript": [
       "if (typeof Jupyter !== \"undefined\") {require.undef(\"nbextensions/vpython_libraries/glow.min\");}else{element.textContent = ' ';}"
      ],
      "text/plain": [
       "<IPython.core.display.Javascript object>"
      ]
     },
     "metadata": {},
     "output_type": "display_data"
    },
    {
     "data": {
      "application/javascript": [
       "if (typeof Jupyter !== \"undefined\") {require.undef(\"nbextensions/vpython_libraries/glowcomm\");}else{element.textContent = ' ';}"
      ],
      "text/plain": [
       "<IPython.core.display.Javascript object>"
      ]
     },
     "metadata": {},
     "output_type": "display_data"
    },
    {
     "data": {
      "application/javascript": [
       "if (typeof Jupyter !== \"undefined\") {require.undef(\"nbextensions/vpython_libraries/jquery-ui.custom.min\");}else{element.textContent = ' ';}"
      ],
      "text/plain": [
       "<IPython.core.display.Javascript object>"
      ]
     },
     "metadata": {},
     "output_type": "display_data"
    },
    {
     "data": {
      "application/javascript": [
       "if (typeof Jupyter !== \"undefined\") {require([\"nbextensions/vpython_libraries/glow.min\"], function(){console.log(\"GLOW LOADED\");});}else{element.textContent = ' ';}"
      ],
      "text/plain": [
       "<IPython.core.display.Javascript object>"
      ]
     },
     "metadata": {},
     "output_type": "display_data"
    },
    {
     "data": {
      "application/javascript": [
       "if (typeof Jupyter !== \"undefined\") {require([\"nbextensions/vpython_libraries/glowcomm\"], function(){console.log(\"GLOWCOMM LOADED\");});}else{element.textContent = ' ';}"
      ],
      "text/plain": [
       "<IPython.core.display.Javascript object>"
      ]
     },
     "metadata": {},
     "output_type": "display_data"
    },
    {
     "data": {
      "application/javascript": [
       "if (typeof Jupyter !== \"undefined\") {require([\"nbextensions/vpython_libraries/jquery-ui.custom.min\"], function(){console.log(\"JQUERY LOADED\");});}else{element.textContent = ' ';}"
      ],
      "text/plain": [
       "<IPython.core.display.Javascript object>"
      ]
     },
     "metadata": {},
     "output_type": "display_data"
    }
   ],
   "source": [
    "q1sphere = sphere(radius = q1.charge, pos = q1.position, color = color.red)\n",
    "q2sphere = sphere(radius = q2.charge, pos = q2.position, color = color.blue)\n",
    "q3sphere = sphere(radius = q3.charge, pos = q3.position, color = color.red)\n",
    "q4sphere = sphere(radius = q4.charge, pos = q4.position, color = color.blue)"
   ]
  },
  {
   "cell_type": "code",
   "execution_count": 7,
   "metadata": {},
   "outputs": [],
   "source": [
    "for r0 in r_0s:\n",
    "    lst = []\n",
    "    ds = .01\n",
    "    s = 0\n",
    "    min_dist = .2\n",
    "    lst.append(r0)\n",
    "    r_n = rk2(charges,r0,ds)\n",
    "    dist = mag(q2.position - r_n)\n",
    "    lst.append(r_n)\n",
    "    while ((dist > min_dist) and (s < 50)):\n",
    "        r_n = rk2(charges, r_n, ds)\n",
    "        dist = mag(q2.position - r_n)\n",
    "        s+=ds\n",
    "        lst.append(r_n)\n",
    "    curve(lst)"
   ]
  },
  {
   "cell_type": "markdown",
   "metadata": {
    "heading_collapsed": true
   },
   "source": [
    "## Introduction to Electric Force and Electric Fields"
   ]
  },
  {
   "cell_type": "markdown",
   "metadata": {
    "hidden": true
   },
   "source": [
    "In order to understand electric fields, first we need to define what a field is. According to the text, a field in phyics is \"a phyiscal quantity whose value depends on (or is a function of) position, relative to the source of the field.\" An electric field has the units Newtons/Coulomb. With this in mind, and the definition of a field, once can start to make the connection that an electric field is used to figure out electric forces. The field allows you to calculate the force at a given test location, given a configuration of source charges, independent of the charge value of the charge at the test location. Recall Coulomb's Law:\n",
    "\\begin{equation*}\n",
    "\\vec{F} = Q q k{\\Delta\\vec{r} \\over |\\Delta\\vec{r}|^3}\n",
    "\\end{equation*}\n",
    "Where $Q$ is the test charge, $q$ is the source charge, $k = 9 \\times 10^9$, and the relative position $\\Delta\\vec{r}$ is defined by the following:\n",
    "\\begin{equation*}\n",
    "\\Delta\\vec{r} = \\vec{r}_{fp} - \\vec{r}_{s}\n",
    "\\end{equation*}\n",
    "The keyword here is <i>relative</i>, as this position is the difference in the position vectors (aka coordinates), where $\\vec{r}_{s}$ is the position of $q$ and $\\vec{r}_{fp}$ is the position $Q$.\n",
    "The result of this equation is a vector. Recall that the magnitude of a vector can be mathematically represented with the vertical bars i.e., $|\\vec{v}| = \\textbf{v}$\n",
    "\n",
    "With all of this in mind, the above equation will give the vector force on test charge $Q$ due to source charge $q$ based on the two charges relative positions.\n",
    "\n",
    "\n",
    "This can be easily modified for multiple source charges with the following:\n",
    "\\begin{equation*}\n",
    "\\vec{F}(\\vec{r}) = k Q {\\sum_{i=1}^n {q_i \\over |\\Delta\\vec{r}_{i}|^3}} \\Delta\\vec{r}_{i}\n",
    "\\end{equation*}\n",
    "This equation represents the vector sum of the forces due to $q_n$ source charges acting on a test charge $q$ at location $\\vec{r}$.\n",
    "\n",
    "With this in mind, we can derive the equation for the net electric field $\\vec{E}$ at point $\\vec{r}_{fp}$ due to $q_n$ source charges by dividing the equation above by $Q$.\n",
    "\\begin{equation*}\n",
    "\\vec{E}(\\vec{r}) = k {\\sum_{i=1}^n {q_i \\over |\\Delta\\vec{r}_{i}|^3}} \\Delta\\vec{r}_{i}\n",
    "\\end{equation*}\n",
    "\n",
    "This is the equation we will be using for calculating the net electric field at a test point moving forward. The code block below is an example of this using a basic electric dipole. The first value printed is the vector form of the electric field $\\vec{E}(\\vec{r})$, and the second number is the magnitude of this vector $|\\vec{E}(\\vec{r})|$.\n",
    "\n",
    "Run the cells as they are written. Then, adjust the values for the charges and their positions (try two of the same sign with symmetry, try two with different magnitudes and signs, random locations in space, add more than just two charges, etc.). While experimenting with this, you can also adjust the test point location by changing the coordinates inside that vector. \n",
    "\n",
    "Remember, you can execute a cell with shift+enter which will move your active cell to the one below, or ctrl+enter which will keep the same cell active. When executing cells which generate vpython visualization objects (canvas, spheres, arrows, etc.), you MUST use shift+enter in order for the visualization to show up in your canvas."
   ]
  },
  {
   "cell_type": "code",
   "execution_count": null,
   "metadata": {
    "hidden": true
   },
   "outputs": [],
   "source": [
    "test_point = vector(0,0,0)\n",
    "q1 = Charge(charge=2e-1, position = vector(0,1,0))\n",
    "q2 = Charge(charge=-2e-1, position = vector(0,-1,0))\n",
    "\n",
    "e_field_net = q1.efield(test_point) + q2.efield(test_point)\n",
    "e_field_net_mag = mag(e_field_net)\n",
    "\n",
    "print(e_field_net)\n",
    "e_field_net_mag"
   ]
  },
  {
   "cell_type": "markdown",
   "metadata": {
    "hidden": true
   },
   "source": [
    "The `canvas()` call below creates a VPython canvas object which is necessary whenever wanting to make visualizations. This creates an empty space which subsequent object calls will be added to."
   ]
  },
  {
   "cell_type": "code",
   "execution_count": null,
   "metadata": {
    "hidden": true
   },
   "outputs": [],
   "source": [
    "canvas()"
   ]
  },
  {
   "cell_type": "markdown",
   "metadata": {
    "hidden": true
   },
   "source": [
    "The two objects created below are 3D spheres which get plotted on our blank canvas above. Each sphere's name indicates the charge it represents. The spheres are passed `pos` which is the location of its center. They are also passed `radius` which is based on the magnitude of the charge. Finally, the colors are assigned with the convention that red is positive and blue is negative."
   ]
  },
  {
   "cell_type": "code",
   "execution_count": null,
   "metadata": {
    "hidden": true
   },
   "outputs": [],
   "source": [
    "q1sphere = sphere(pos = q1.position, radius = q1.charge, color = color.red)\n",
    "q2sphere = sphere(pos = q2.position, radius = q2.charge, color = color.blue)"
   ]
  },
  {
   "cell_type": "markdown",
   "metadata": {
    "hidden": true
   },
   "source": [
    "Below we create an arrow representing the vector $\\vec{E}(\\vec{r})$ calculated above. The arrow is an object with similar attributes to the sphere. The multiplication in the `axis=` portion just scales the vector down so it's size is reasonable in relation to the size of the charges. Even scaling the vector down results in large vectors for points close to the positive charge. "
   ]
  },
  {
   "cell_type": "code",
   "execution_count": null,
   "metadata": {
    "hidden": true
   },
   "outputs": [],
   "source": [
    "e_field_vector = arrow(pos=test_point, axis=e_field_net*10**-9, shaftwidth=.08)"
   ]
  },
  {
   "cell_type": "markdown",
   "metadata": {
    "hidden": true
   },
   "source": [
    "We can update the test point in the cell above, rerun that cell, then rerun the cell above and add another arrow to the graph. This isn't the most efficient way to visualize the electric field. Because the electric field exists at any location in space, it would be impossible to draw enough of these arrows and eventually the arrows get cluttered. We introduce a new way of visualizing the electric field below."
   ]
  },
  {
   "cell_type": "markdown",
   "metadata": {},
   "source": [
    "## Drawing Electric Field Lines"
   ]
  },
  {
   "cell_type": "markdown",
   "metadata": {},
   "source": [
    "Recall that our formula for the vector net electric field at test point/field point $\\vec{r}_{fp}$ is:\n",
    "\\begin{equation*}\n",
    "\\vec{E}(\\vec{r}) = k {\\sum_{i=1}^n {q_i \\over |\\Delta\\vec{r}_{i}|^3}} \\Delta\\vec{r}_{i}\n",
    "\\end{equation*}\n",
    "\n",
    "Where each $\\Delta \\vec{r}_i$ equals $\\vec{r}_{fp} - \\vec{r}_i$ which is the relative position from source charge $q_i$ to the field point $\\vec{r}_{fp}$.\n",
    "\n",
    "Electric field lines are a good way to graphically represent electric fields. Lines start on positive charges and end on negative charges. The closer together lines are, the stronger the electric field is at those points. Electric field lines can be drawn by numerically solving the follow differential equation:\n",
    "\\begin{equation*}\n",
    "{d\\vec{r} \\over ds} = {\\vec{E(\\vec{r}}) \\over |\\vec{E(\\vec{r})}|}\n",
    "\\end{equation*}\n",
    "\n",
    "Each of the $\\vec{r}_n$ points generated by this equation are points along a curve that is defined by the above equation. We can use Euler's method of numerically estimating solutions to differential equations to solve the equation above with the following equation:\n",
    "\\begin{equation*}\n",
    "\\vec{r}_{n+1} = \\vec{r}_n + {\\vec{E(\\vec{r_n}}) \\over |\\vec{E(\\vec{r_n})}|}\\Delta s\n",
    "\\end{equation*}\n",
    "\n",
    "In the cell below we continue working with our dipole we created above. Recall that the charges are named `q1` and `q2`. Execute the cell below to print out the information about each charge to the console to ensure we are working with what we think we are. You can update object attributes by running lines like `q1.charge = 2e-2` etc."
   ]
  },
  {
   "cell_type": "code",
   "execution_count": null,
   "metadata": {},
   "outputs": [],
   "source": [
    "print(q1.charge)\n",
    "print(q1.position)\n",
    "print(q2.charge)\n",
    "print(q2.position)"
   ]
  },
  {
   "cell_type": "markdown",
   "metadata": {},
   "source": [
    "First we create an empty canvas."
   ]
  },
  {
   "cell_type": "code",
   "execution_count": null,
   "metadata": {
    "scrolled": false
   },
   "outputs": [],
   "source": [
    "canvas()"
   ]
  },
  {
   "cell_type": "markdown",
   "metadata": {},
   "source": [
    "Then add spheres representing our charges."
   ]
  },
  {
   "cell_type": "code",
   "execution_count": null,
   "metadata": {},
   "outputs": [],
   "source": [
    "q1sphere = sphere(pos = q1.position, radius = q1.charge, color = color.red)\n",
    "q2sphere = sphere(pos = q2.position, radius = q2.charge, color = color.blue)"
   ]
  },
  {
   "cell_type": "markdown",
   "metadata": {},
   "source": [
    "The following cell generates the list of points that will be used to generate a field line starting from point $\\vec{r}_0$ which is stored in the variable `r_0`. \n",
    "\n",
    "We calculate the first approximation outside the loop. Each approximation will be stored in the variable `r_n` and will be added to a list `lst` through the `.append()` method. \n",
    "\n",
    "This will store all the points which can then be used to create the field line. In order to prevent the `while` loop from never exiting, we provide stop conditions. One of them is based on the distance from the newest calculated point to the negative charge. This prevents the loop from hitting a divide by zero error when the field point is right on top of the charge. The other stop condition is related to the value of s which is accumulating the length of the line over each iteration. The cutoff for this length is 5, but the value can be adjusted depending on the location of the starting point of the field line. Each of the values calculated in the loop is appended to the list `lst`."
   ]
  },
  {
   "cell_type": "code",
   "execution_count": null,
   "metadata": {},
   "outputs": [],
   "source": [
    "ds = .01\n",
    "s = 0\n",
    "min_dist = .2\n",
    "r_0 = vector(0.173205080757,.9,0)\n",
    "lst = []\n",
    "lst.append(r_0)\n",
    "r_n = r_0 + hat(q2.efield(r_0)+q1.efield(r_0))*ds\n",
    "lst.append(r_n)\n",
    "s+=ds\n",
    "dist = mag(q2.position - r_n)\n",
    "while ((dist > min_dist) and (s < 5)):\n",
    "    r_n = r_n + hat(q2.efield(r_n) + q1.efield(r_n))*ds\n",
    "    dist = mag(q2.position - r_n)\n",
    "    s+=ds\n",
    "    lst.append(r_n)\n",
    "curve(lst)"
   ]
  },
  {
   "cell_type": "markdown",
   "metadata": {},
   "source": [
    "The next step is to generate a list of r_0s to start our lines from in order to create a diagram that has multiple lines.\n",
    "\n",
    "We first have to create our list object by assigning it to a name and keeping it empty.\n",
    "\n",
    "Then we use a `for` loop and the `range` function to generate a list of 6 vectors that are equally spaced around the positive charge $q1$ by rotating a vector around the z_axis. We used `r_0s.append(r_n_x)` to add each of these vectors to the list. In the same loop we do the same exact operation except rotating around the x axis and y axis. This will give us a good amount of starting vectors and allow us to see a full 3D representation of the field lines."
   ]
  },
  {
   "cell_type": "code",
   "execution_count": null,
   "metadata": {},
   "outputs": [],
   "source": [
    "r_0s = []\n",
    "for n in range(0,7):\n",
    "    r_n_x = q1.position + rotate(vector(0,-0.2,0), angle = n *np.pi/3, axis=vector(1,0,0))\n",
    "    r_n_y = q1.position + rotate(vector(0.2,0,0), angle = n*np.pi/3, axis=vector(0,1,0))\n",
    "    r_n_z = q1.position + rotate(vector(0,-0.2,0), angle = n*np.pi/3, axis=vector(0,0,1))\n",
    "    r_0s.append(r_n_x)\n",
    "    r_0s.append(r_n_y)\n",
    "    r_0s.append(r_n_z)"
   ]
  },
  {
   "cell_type": "code",
   "execution_count": null,
   "metadata": {},
   "outputs": [],
   "source": [
    "r_0s"
   ]
  },
  {
   "cell_type": "code",
   "execution_count": null,
   "metadata": {},
   "outputs": [],
   "source": [
    "charges = np.array([q1,q2])"
   ]
  },
  {
   "cell_type": "code",
   "execution_count": null,
   "metadata": {},
   "outputs": [],
   "source": [
    "for r0 in r_0s:\n",
    "    lst = []\n",
    "    ds = .01\n",
    "    s = 0\n",
    "    min_dist = .2\n",
    "    lst.append(r0)\n",
    "    r_n = rk2(charges,r0,ds)\n",
    "    dist = mag(q1.position - r_n)\n",
    "    lst.append(r_n)\n",
    "    while ((dist > min_dist) and (s < 10)):\n",
    "        r_n = rk2(charges, r_n, ds)\n",
    "        dist = mag(q1.position - r_n)\n",
    "        s+=ds\n",
    "        lst.append(r_n)\n",
    "    curve(lst)"
   ]
  },
  {
   "cell_type": "code",
   "execution_count": null,
   "metadata": {},
   "outputs": [],
   "source": []
  }
 ],
 "metadata": {
  "kernelspec": {
   "display_name": "Python 3",
   "language": "python",
   "name": "python3"
  },
  "language_info": {
   "codemirror_mode": {
    "name": "ipython",
    "version": 3
   },
   "file_extension": ".py",
   "mimetype": "text/x-python",
   "name": "python",
   "nbconvert_exporter": "python",
   "pygments_lexer": "ipython3",
   "version": "3.7.3"
  },
  "toc": {
   "base_numbering": 1,
   "nav_menu": {},
   "number_sections": true,
   "sideBar": true,
   "skip_h1_title": false,
   "title_cell": "Table of Contents",
   "title_sidebar": "Contents",
   "toc_cell": false,
   "toc_position": {},
   "toc_section_display": true,
   "toc_window_display": false
  }
 },
 "nbformat": 4,
 "nbformat_minor": 2
}
