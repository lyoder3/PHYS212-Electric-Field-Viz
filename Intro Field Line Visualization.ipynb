{
 "cells": [
  {
   "cell_type": "markdown",
   "metadata": {},
   "source": [
    "Run the cell below <b>FIRST</b> by pressing 'shift + enter'"
   ]
  },
  {
   "cell_type": "code",
   "execution_count": 1,
   "metadata": {},
   "outputs": [
    {
     "data": {
      "text/html": [
       "<div id=\"glowscript\" class=\"glowscript\"></div>"
      ],
      "text/plain": [
       "<IPython.core.display.HTML object>"
      ]
     },
     "metadata": {},
     "output_type": "display_data"
    },
    {
     "data": {
      "application/javascript": [
       "if (typeof Jupyter !== \"undefined\") { window.__context = { glowscript_container: $(\"#glowscript\").removeAttr(\"id\")};}else{ element.textContent = ' ';}"
      ],
      "text/plain": [
       "<IPython.core.display.Javascript object>"
      ]
     },
     "metadata": {},
     "output_type": "display_data"
    }
   ],
   "source": [
    "from vpython import *\n",
    "import numpy as np\n",
    "import Charge"
   ]
  },
  {
   "cell_type": "markdown",
   "metadata": {},
   "source": [
    "Then run the cell below which creates a list of charge objects and a list of starting points for drawing field lines."
   ]
  },
  {
   "cell_type": "code",
   "execution_count": 2,
   "metadata": {},
   "outputs": [],
   "source": [
    "q1 = Charge.Charge(charge=.2, position=vector(0,1,0))\n",
    "q2 = Charge.Charge(charge = -.2, position = vector(0,-1,0))\n",
    "charges = [q1, q2]\n",
    "\n",
    "r_0_1 = q1.position + rotate(vector(0,-.2,0), angle = np.pi/6, axis=vector(0,0,1))\n",
    "r_0_2 = q1.position + rotate(vector(0,-.2,0), angle = 4*np.pi/6, axis=vector(0,0,1))\n",
    "\n",
    "r_0s = [r_0_1, r_0_2]"
   ]
  },
  {
   "cell_type": "markdown",
   "metadata": {},
   "source": [
    "Run this cell which creates an empty canvas allowing us to add visualization objects. You can zoom in and out of the canvas by scrolling. You can rotate the scene by using 'ctrl + left-click'. You can pan and move about the screen with 'shift + left-click'."
   ]
  },
  {
   "cell_type": "code",
   "execution_count": 12,
   "metadata": {},
   "outputs": [
    {
     "data": {
      "text/html": [
       "<div id=\"glowscript\" class=\"glowscript\"></div>"
      ],
      "text/plain": [
       "<IPython.core.display.HTML object>"
      ]
     },
     "metadata": {},
     "output_type": "display_data"
    },
    {
     "data": {
      "application/javascript": [
       "if (typeof Jupyter !== \"undefined\") { window.__context = { glowscript_container: $(\"#glowscript\").removeAttr(\"id\")};}else{ element.textContent = ' ';}"
      ],
      "text/plain": [
       "<IPython.core.display.Javascript object>"
      ]
     },
     "metadata": {},
     "output_type": "display_data"
    }
   ],
   "source": [
    "canvas()"
   ]
  },
  {
   "cell_type": "markdown",
   "metadata": {},
   "source": [
    "Run this cell to add the spheres representing the charges to the canvas."
   ]
  },
  {
   "cell_type": "code",
   "execution_count": 13,
   "metadata": {},
   "outputs": [],
   "source": [
    "q1sphere = sphere(radius = q1.charge, pos=q1.position, color = vector(.85,0,0))\n",
    "q2sphere = sphere(radius = q2.charge, pos=q2.position, color = vector(0,0,.85))"
   ]
  },
  {
   "cell_type": "markdown",
   "metadata": {},
   "source": [
    "Run the cell below to generate two field lines."
   ]
  },
  {
   "cell_type": "code",
   "execution_count": 19,
   "metadata": {
    "code_folding": []
   },
   "outputs": [
    {
     "name": "stderr",
     "output_type": "stream",
     "text": [
      "Task exception was never retrieved\n",
      "future: <Task finished coro=<wsperiodic() done, defined at C:\\ProgramData\\Anaconda3\\lib\\site-packages\\vpython\\with_notebook.py:153> exception=TypeError('must be real number, not NoneType')>\n",
      "Traceback (most recent call last):\n",
      "  File \"C:\\ProgramData\\Anaconda3\\lib\\site-packages\\vpython\\with_notebook.py\", line 163, in wsperiodic\n",
      "    baseObj.glow.handle_msg(msg)\n",
      "  File \"C:\\ProgramData\\Anaconda3\\lib\\site-packages\\vpython\\vpython.py\", line 391, in handle_msg\n",
      "    cvs.handle_event(evt)\n",
      "  File \"C:\\ProgramData\\Anaconda3\\lib\\site-packages\\vpython\\vpython.py\", line 3141, in handle_event\n",
      "    evt['pos'] = list_to_vec(pos)\n",
      "  File \"C:\\ProgramData\\Anaconda3\\lib\\site-packages\\vpython\\vpython.py\", line 175, in list_to_vec\n",
      "    return vector(L[0], L[1], L[2])\n",
      "  File \"vpython\\cyvector.pyx\", line 29, in vpython.cyvector.vector.__init__\n",
      "TypeError: must be real number, not NoneType\n"
     ]
    }
   ],
   "source": [
    "for r_0 in r_0s:\n",
    "    lst = []\n",
    "    s = 0\n",
    "    ds = .05\n",
    "    min_dist = .1\n",
    "    lst.append(r_0)\n",
    "    r_n = Charge.euler(charges, r_0, ds)\n",
    "    lst.append(r_n)\n",
    "    dist = mag(q2.position-r_n)\n",
    "    while ((dist >= min_dist) and (s <= 20)):\n",
    "        r_n = Charge.euler(charges, r_n, ds)\n",
    "        dist = mag(q2.position-r_n)\n",
    "        s+=ds\n",
    "        lst.append(r_n)\n",
    "    curve(lst)"
   ]
  },
  {
   "cell_type": "markdown",
   "metadata": {},
   "source": [
    "The electric field is not only present in the locations above, so by drawing more field lines we can get a better idea of what it actually looks like. The cell below creates updates the list of starting points. Run this then go back to the cell above and re-execute it to see more lines."
   ]
  },
  {
   "cell_type": "code",
   "execution_count": 18,
   "metadata": {},
   "outputs": [],
   "source": [
    "r_0s = []\n",
    "for i in range(0,5):\n",
    "    r_yz1 = q1.position + rotate(vector(0,-0.2,0), angle=i * (np.pi/2), axis=vector(1,0,0))\n",
    "    r_xy1 = q1.position + rotate(vector(0,-0.2,0), angle = i * (np.pi/2), axis=vector(0,0,1))\n",
    "    r_0s.append(r_yz1)\n",
    "    r_0s.append(r_xy1)"
   ]
  },
  {
   "cell_type": "code",
   "execution_count": null,
   "metadata": {},
   "outputs": [],
   "source": []
  }
 ],
 "metadata": {
  "kernelspec": {
   "display_name": "Python 3",
   "language": "python",
   "name": "python3"
  },
  "language_info": {
   "codemirror_mode": {
    "name": "ipython",
    "version": 3
   },
   "file_extension": ".py",
   "mimetype": "text/x-python",
   "name": "python",
   "nbconvert_exporter": "python",
   "pygments_lexer": "ipython3",
   "version": "3.7.3"
  },
  "toc": {
   "base_numbering": 1,
   "nav_menu": {},
   "number_sections": true,
   "sideBar": true,
   "skip_h1_title": false,
   "title_cell": "Table of Contents",
   "title_sidebar": "Contents",
   "toc_cell": false,
   "toc_position": {},
   "toc_section_display": true,
   "toc_window_display": false
  }
 },
 "nbformat": 4,
 "nbformat_minor": 2
}
