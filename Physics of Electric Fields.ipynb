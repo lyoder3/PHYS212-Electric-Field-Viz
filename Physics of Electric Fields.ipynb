{
 "cells": [
  {
   "cell_type": "markdown",
   "metadata": {},
   "source": [
    "Run the cell below using 'shift + enter' which highlights the next cell. Be sure to execute the cells with text in them so the formatting is applied and they are able to be read."
   ]
  },
  {
   "cell_type": "code",
   "execution_count": 20,
   "metadata": {},
   "outputs": [],
   "source": [
    "from vpython import *\n",
    "from Charge import Charge, euler\n",
    "from Charge import runge_kutta_2 as rk2\n",
    "import numpy as np"
   ]
  },
  {
   "cell_type": "markdown",
   "metadata": {},
   "source": [
    "## Introduction to Electric Force and Electric Fields"
   ]
  },
  {
   "cell_type": "markdown",
   "metadata": {},
   "source": [
    "In order to understand electric fields, first we need to define what a field is. According to the text, a field in phyics is \"a phyiscal quantity whose value depends on (or is a function of) position, relative to the source of the field.\" An electric field has the units Newtons/Coulomb. With this in mind, and the definition of a field, you can start to make the connection that an electric field is used to figure out electric forces. The field allows you to calculate the force at a given test location, given a configuration of source charges, independent of the value of the charge at the test location. Recall Coulomb's Law:\n",
    "\\begin{equation*}\n",
    "\\vec{F} = Q q k{\\Delta\\vec{r} \\over |\\Delta\\vec{r}|^3}\n",
    "\\end{equation*}\n",
    "Where $Q$ is the test charge, $q$ is the source charge, $k = 9 \\times 10^9$, and the relative position $\\Delta\\vec{r}$ is defined by the following:\n",
    "\\begin{equation*}\n",
    "\\Delta\\vec{r} = \\vec{r}_{fp} - \\vec{r}_{s}\n",
    "\\end{equation*}\n",
    "The keyword here is <i>relative</i>, as this position is the difference in the position vectors (aka coordinates), where $\\vec{r}_{s}$ is the position of $q$ and $\\vec{r}_{fp}$ is the position $Q$.\n",
    "The result of this equation is a vector. Recall that the magnitude of a vector can be mathematically represented with the vertical bars i.e., $|\\vec{v}| = \\textbf{v}$\n",
    "\n",
    "With all of this in mind, the above equation will give the vector force on test charge $Q$ due to source charge $q$ based on the charges' relative positions.\n",
    "\n",
    "\n",
    "This can be easily modified for multiple source charges with the following:\n",
    "\\begin{equation*}\n",
    "\\vec{F}(\\vec{r}) = k Q {\\sum_{i=1}^n {q_i \\over |\\Delta\\vec{r}_{i}|^3}} \\Delta\\vec{r}_{i}\n",
    "\\end{equation*}\n",
    "This equation represents the vector sum of the forces due to $q_n$ source charges acting on a test charge $Q$ at location $\\vec{r}$.\n",
    "\n",
    "With this in mind, we can derive the equation for the net electric field $\\vec{E}$ at point $\\vec{r}_{fp}$ due to $q_n$ source charges by dividing the equation above by $Q$.\n",
    "\\begin{equation*}\n",
    "\\vec{E}(\\vec{r}) = k {\\sum_{i=1}^n {q_i \\over |\\Delta\\vec{r}_{i}|^3}} \\Delta\\vec{r}_{i}\n",
    "\\end{equation*}\n",
    "\n",
    "This is the equation we will be using for calculating the net electric field at a test point moving forward. You can find the electric force on any charge $Q$ at the location $\\vec{r}$ by multiplying the result of $\\vec{E}(\\vec{r})$ by $Q$.\n",
    "\n",
    "The code block below is an example of this using a basic electric dipole. The first value printed is the vector form of the electric field $\\vec{E}(\\vec{r})$, and the second number is the magnitude of this vector $|\\vec{E}(\\vec{r})|$.\n",
    "\n",
    "Run the cells as they are written. Then, adjust the values for the charges and their positions (try two of the same sign with symmetry, try two with different magnitudes and signs, random locations in space, add more than just two charges, etc.). While experimenting with this, you can also adjust the test point location by changing the coordinates inside that vector."
   ]
  },
  {
   "cell_type": "code",
   "execution_count": 21,
   "metadata": {},
   "outputs": [
    {
     "name": "stdout",
     "output_type": "stream",
     "text": [
      "<0, -3.6e+09, 0>\n"
     ]
    },
    {
     "data": {
      "text/plain": [
       "3600000000.0"
      ]
     },
     "execution_count": 21,
     "metadata": {},
     "output_type": "execute_result"
    }
   ],
   "source": [
    "test_point = vector(0,0,0)\n",
    "q1 = Charge(charge=2e-1, position = vector(0,1,0))\n",
    "q2 = Charge(charge=-2e-1, position = vector(0,-1,0))\n",
    "charges = [q1, q2]\n",
    "\n",
    "e_fields = [q.efield(test_point) for q in charges]\n",
    "\n",
    "e_field_net = vector(0,0,0)\n",
    "\n",
    "for i in e_fields:\n",
    "    e_field_net += i\n",
    "e\n",
    "print(e_field_net)\n",
    "mag(e_field_net)"
   ]
  },
  {
   "cell_type": "markdown",
   "metadata": {},
   "source": [
    "The `canvas()` call below creates a VPython canvas object which is necessary whenever wanting to make visualizations. This creates an empty space which subsequent object calls will be added to."
   ]
  },
  {
   "cell_type": "code",
   "execution_count": 22,
   "metadata": {},
   "outputs": [
    {
     "data": {
      "text/html": [
       "<div id=\"glowscript\" class=\"glowscript\"></div>"
      ],
      "text/plain": [
       "<IPython.core.display.HTML object>"
      ]
     },
     "metadata": {},
     "output_type": "display_data"
    },
    {
     "data": {
      "application/javascript": [
       "if (typeof Jupyter !== \"undefined\") { window.__context = { glowscript_container: $(\"#glowscript\").removeAttr(\"id\")};}else{ element.textContent = ' ';}"
      ],
      "text/plain": [
       "<IPython.core.display.Javascript object>"
      ]
     },
     "metadata": {},
     "output_type": "display_data"
    }
   ],
   "source": [
    "canvas()"
   ]
  },
  {
   "cell_type": "markdown",
   "metadata": {},
   "source": [
    "The two objects created below are 3D spheres which get plotted on our blank canvas above. Each sphere's name indicates the charge it represents. The spheres are passed `pos` which is the location of its center. They are also passed `radius` which is based on the magnitude of the charge. Finally, the colors are assigned with the convention that red is positive and blue is negative."
   ]
  },
  {
   "cell_type": "code",
   "execution_count": 23,
   "metadata": {},
   "outputs": [],
   "source": [
    "q1sphere = sphere(pos = q1.position, radius = q1.charge, color = color.red)\n",
    "q2sphere = sphere(pos = q2.position, radius = q2.charge, color = color.blue)"
   ]
  },
  {
   "cell_type": "markdown",
   "metadata": {},
   "source": [
    "Below we create an arrow representing the vector $\\vec{E}(\\vec{r})$ calculated above. The arrow is an object with similar attributes to the sphere. The multiplication in the `axis=` portion just scales the vector down so it's size is reasonable in relation to the size of the charges. Even scaling the vector down results in large vectors for points close to the positive charge. "
   ]
  },
  {
   "cell_type": "code",
   "execution_count": 24,
   "metadata": {},
   "outputs": [],
   "source": [
    "e_field_vector = arrow(pos=test_point, axis=e_field_net*10**-9, shaftwidth=.08)"
   ]
  },
  {
   "cell_type": "markdown",
   "metadata": {},
   "source": [
    "We can update the test point in the cell above, rerun that cell, then rerun the cell above and add another arrow to the graph. This isn't the most efficient way to visualize the electric field. Because the electric field exists at any location in space, it would be impossible to draw enough of these arrows and eventually the arrows get cluttered. We introduce a new way of visualizing the electric field below."
   ]
  },
  {
   "cell_type": "markdown",
   "metadata": {},
   "source": [
    "## Drawing Electric Field Lines"
   ]
  },
  {
   "cell_type": "markdown",
   "metadata": {},
   "source": [
    "Recall that our formula for the vector net electric field at test point/field point $\\vec{r}_{fp}$ is:\n",
    "\\begin{equation*}\n",
    "\\vec{E}(\\vec{r}) = k {\\sum_{i=1}^n {q_i \\over |\\Delta\\vec{r}_{i}|^3}} \\Delta\\vec{r}_{i}\n",
    "\\end{equation*}\n",
    "\n",
    "Where each $\\Delta \\vec{r}_i$ equals $\\vec{r}_{fp} - \\vec{r}_i$ which is the relative position from source charge $q_i$ to the field point $\\vec{r}_{fp}$.\n",
    "\n",
    "Electric field lines are a good way to graphically represent electric fields. Lines start on positive charges and end on negative charges. The closer together lines are, the stronger the electric field is at those points. Electric field lines can be drawn by numerically solving the follow differential equation:\n",
    "\\begin{equation*}\n",
    "{d\\vec{r} \\over ds} = {\\vec{E(\\vec{r}}) \\over |\\vec{E(\\vec{r})}|}\n",
    "\\end{equation*}\n",
    "\n",
    "Each of the $\\vec{r}_n$ points generated by this equation are points along a curve that is defined by the above equation. We can use Euler's method of numerically estimating solutions to differential equations to solve the equation above with the following equation:\n",
    "\\begin{equation*}\n",
    "\\vec{r}_{n+1} = \\vec{r}_n + {\\vec{E(\\vec{r_n}}) \\over |\\vec{E(\\vec{r_n})}|}\\Delta s\n",
    "\\end{equation*}\n",
    "\n",
    "In the cell below we continue working with our dipole we created above. Recall that the charges are named `q1` and `q2`. Execute the cell below to print out the information about each charge to the console to ensure we are working with what we think we are. You can update object attributes by running lines like `q1.charge = 2e-2` etc."
   ]
  },
  {
   "cell_type": "code",
   "execution_count": 25,
   "metadata": {},
   "outputs": [
    {
     "name": "stdout",
     "output_type": "stream",
     "text": [
      "0.2\n",
      "<0, 1, 0>\n",
      "-0.2\n",
      "<0, -1, 0>\n"
     ]
    }
   ],
   "source": [
    "print(q1.charge)\n",
    "print(q1.position)\n",
    "print(q2.charge)\n",
    "print(q2.position)"
   ]
  },
  {
   "cell_type": "markdown",
   "metadata": {},
   "source": [
    "First we create an empty canvas."
   ]
  },
  {
   "cell_type": "code",
   "execution_count": 26,
   "metadata": {
    "scrolled": false
   },
   "outputs": [
    {
     "data": {
      "text/html": [
       "<div id=\"glowscript\" class=\"glowscript\"></div>"
      ],
      "text/plain": [
       "<IPython.core.display.HTML object>"
      ]
     },
     "metadata": {},
     "output_type": "display_data"
    },
    {
     "data": {
      "application/javascript": [
       "if (typeof Jupyter !== \"undefined\") { window.__context = { glowscript_container: $(\"#glowscript\").removeAttr(\"id\")};}else{ element.textContent = ' ';}"
      ],
      "text/plain": [
       "<IPython.core.display.Javascript object>"
      ]
     },
     "metadata": {},
     "output_type": "display_data"
    }
   ],
   "source": [
    "canvas()"
   ]
  },
  {
   "cell_type": "markdown",
   "metadata": {},
   "source": [
    "Then add spheres representing our charges."
   ]
  },
  {
   "cell_type": "code",
   "execution_count": 27,
   "metadata": {},
   "outputs": [],
   "source": [
    "q1sphere = sphere(pos = q1.position, radius = q1.charge, color = color.red)\n",
    "q2sphere = sphere(pos = q2.position, radius = q2.charge, color = color.blue)"
   ]
  },
  {
   "cell_type": "markdown",
   "metadata": {},
   "source": [
    "Add the charge objects to a list in order to compute the field due to the two charges with each starting point."
   ]
  },
  {
   "cell_type": "code",
   "execution_count": 28,
   "metadata": {},
   "outputs": [],
   "source": [
    "charges = [q1,q2]"
   ]
  },
  {
   "cell_type": "markdown",
   "metadata": {},
   "source": [
    "The following cell generates the list of points that will be used to generate a field line starting from point $\\vec{r}_0$ which is stored in the variable `r_0`. \n",
    "\n",
    "We calculate the first approximation outside the loop. Each approximation will be stored in the variable `r_n` and will be added to a list `lst` through the `.append()` method. \n",
    "\n",
    "This will store all the points which can then be used to create the field line. In order to prevent the `while` loop from never exiting, we provide stop conditions. One of them is based on the distance from the newest calculated point to the negative charge. This prevents the loop from hitting a divide by zero error when the field point is right on top of the charge. The other stop condition is related to the value of s which is accumulating the length of the line over each iteration. The cutoff for this length is 5, but the value can be adjusted depending on the location of the starting point of the field line. Each of the values calculated in the loop is appended to the list `lst`."
   ]
  },
  {
   "cell_type": "code",
   "execution_count": 19,
   "metadata": {},
   "outputs": [],
   "source": [
    "ds = .01\n",
    "s = 0\n",
    "min_dist = .2\n",
    "r_0 = vector(0.173205080757,.9,0)\n",
    "lst = []\n",
    "lst.append(r_0)\n",
    "r_n = r_0 + hat(q2.efield(r_0)+q1.efield(r_0))*ds\n",
    "lst.append(r_n)\n",
    "s+=ds\n",
    "dist = mag(q2.position - r_n)\n",
    "while ((dist > min_dist) and (s < 5)):\n",
    "    r_n = euler(charges, r_n,ds)\n",
    "    dist = mag(q2.position - r_n)\n",
    "    s+=ds\n",
    "    lst.append(r_n)\n",
    "curve(lst)"
   ]
  },
  {
   "cell_type": "markdown",
   "metadata": {},
   "source": [
    "In order to create a more complete picture, we must generate a list of starting points in different planes. The loop below does this using the vector rotate function in VPython."
   ]
  },
  {
   "cell_type": "code",
   "execution_count": 10,
   "metadata": {},
   "outputs": [],
   "source": [
    "r_0s = []\n",
    "for n in range(0,7):\n",
    "    r_0_x = q1.position + rotate(vector(0,-0.2,0), angle = n *np.pi/3, axis=vector(1,0,0))\n",
    "    r_0_y = q1.position + rotate(vector(0.2,0,0), angle = n*np.pi/3, axis=vector(0,1,0))\n",
    "    r_0_z = q1.position + rotate(vector(0,-0.2,0), angle = n*np.pi/3, axis=vector(0,0,1))\n",
    "    r_0s.append(r_0_x)\n",
    "    r_0s.append(r_0_y)\n",
    "    r_0s.append(r_0_z)"
   ]
  },
  {
   "cell_type": "code",
   "execution_count": null,
   "metadata": {},
   "outputs": [],
   "source": [
    "for r0 in r_0s:\n",
    "    lst = []\n",
    "    ds = .01\n",
    "    s = 0\n",
    "    min_dist = .2\n",
    "    lst.append(r0)\n",
    "    r_n = rk2(charges,r0,ds)\n",
    "    dist = mag(q1.position - r_n)\n",
    "    lst.append(r_n)\n",
    "    while ((dist > min_dist) and (s < 10)):\n",
    "        r_n = rk2(charges, r_n, ds)\n",
    "        dist = mag(q1.position - r_n)\n",
    "        s+=ds\n",
    "        lst.append(r_n)\n",
    "    curve(lst)"
   ]
  },
  {
   "cell_type": "code",
   "execution_count": null,
   "metadata": {},
   "outputs": [],
   "source": []
  }
 ],
 "metadata": {
  "kernelspec": {
   "display_name": "Python 3",
   "language": "python",
   "name": "python3"
  },
  "language_info": {
   "codemirror_mode": {
    "name": "ipython",
    "version": 3
   },
   "file_extension": ".py",
   "mimetype": "text/x-python",
   "name": "python",
   "nbconvert_exporter": "python",
   "pygments_lexer": "ipython3",
   "version": "3.7.3"
  },
  "toc": {
   "base_numbering": 1,
   "nav_menu": {},
   "number_sections": true,
   "sideBar": true,
   "skip_h1_title": false,
   "title_cell": "Table of Contents",
   "title_sidebar": "Contents",
   "toc_cell": false,
   "toc_position": {},
   "toc_section_display": true,
   "toc_window_display": false
  }
 },
 "nbformat": 4,
 "nbformat_minor": 2
}
